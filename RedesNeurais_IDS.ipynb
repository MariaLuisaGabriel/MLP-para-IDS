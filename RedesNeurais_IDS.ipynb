{
  "cells": [
    {
      "cell_type": "markdown",
      "metadata": {
        "id": "A_DY9S3zT9FM"
      },
      "source": [
        "# Trabalho 1 - Redes Neurais\n",
        "\n",
        "### Feito por: Giovanna Oliveira Martins, João Pedro Ferreira Pereira e Maria Luísa Gabriel Domingues"
      ]
    },
    {
      "cell_type": "markdown",
      "metadata": {
        "id": "4falNs_4T5Bf"
      },
      "source": [
        "# Pré Processamento"
      ]
    },
    {
      "cell_type": "code",
      "execution_count": null,
      "metadata": {
        "id": "KA9s5LAGREqE"
      },
      "outputs": [],
      "source": [
        "import pandas as pd"
      ]
    },
    {
      "cell_type": "code",
      "execution_count": null,
      "metadata": {
        "id": "IDWZRBj4REqF"
      },
      "outputs": [],
      "source": [
        "df = pd.read_csv('kdd_train.csv')"
      ]
    },
    {
      "cell_type": "code",
      "execution_count": null,
      "metadata": {
        "colab": {
          "base_uri": "https://localhost:8080/",
          "height": 203
        },
        "id": "4QikxZ3iREqF",
        "outputId": "99fd0f86-341e-4fba-c07c-3f57148327fe"
      },
      "outputs": [
        {
          "data": {
            "text/html": [
              "<div style=\"max-width:800px; border: 1px solid var(--colab-border-color);\"><style>\n",
              "      pre.function-repr-contents {\n",
              "        overflow-x: auto;\n",
              "        padding: 8px 12px;\n",
              "        max-height: 500px;\n",
              "      }\n",
              "\n",
              "      pre.function-repr-contents.function-repr-contents-collapsed {\n",
              "        cursor: pointer;\n",
              "        max-height: 100px;\n",
              "      }\n",
              "    </style>\n",
              "    <pre style=\"white-space: initial; background:\n",
              "         var(--colab-secondary-surface-color); padding: 8px 12px;\n",
              "         border-bottom: 1px solid var(--colab-border-color);\"><b>pandas.core.frame.DataFrame.info</b><br/>def info(verbose: bool | None=None, buf: WriteBuffer[str] | None=None, max_cols: int | None=None, memory_usage: bool | str | None=None, show_counts: bool | None=None) -&gt; None</pre><pre class=\"function-repr-contents function-repr-contents-collapsed\" style=\"\"><a class=\"filepath\" style=\"display:none\" href=\"#\">/usr/local/lib/python3.11/dist-packages/pandas/core/frame.py</a>Print a concise summary of a DataFrame.\n",
              "\n",
              "This method prints information about a DataFrame including\n",
              "the index dtype and columns, non-null values and memory usage.\n",
              "\n",
              "Parameters\n",
              "----------\n",
              "verbose : bool, optional\n",
              "    Whether to print the full summary. By default, the setting in\n",
              "    ``pandas.options.display.max_info_columns`` is followed.\n",
              "buf : writable buffer, defaults to sys.stdout\n",
              "    Where to send the output. By default, the output is printed to\n",
              "    sys.stdout. Pass a writable buffer if you need to further process\n",
              "    the output.\n",
              "max_cols : int, optional\n",
              "    When to switch from the verbose to the truncated output. If the\n",
              "    DataFrame has more than `max_cols` columns, the truncated output\n",
              "    is used. By default, the setting in\n",
              "    ``pandas.options.display.max_info_columns`` is used.\n",
              "memory_usage : bool, str, optional\n",
              "    Specifies whether total memory usage of the DataFrame\n",
              "    elements (including the index) should be displayed. By default,\n",
              "    this follows the ``pandas.options.display.memory_usage`` setting.\n",
              "\n",
              "    True always show memory usage. False never shows memory usage.\n",
              "    A value of &#x27;deep&#x27; is equivalent to &quot;True with deep introspection&quot;.\n",
              "    Memory usage is shown in human-readable units (base-2\n",
              "    representation). Without deep introspection a memory estimation is\n",
              "    made based in column dtype and number of rows assuming values\n",
              "    consume the same memory amount for corresponding dtypes. With deep\n",
              "    memory introspection, a real memory usage calculation is performed\n",
              "    at the cost of computational resources. See the\n",
              "    :ref:`Frequently Asked Questions &lt;df-memory-usage&gt;` for more\n",
              "    details.\n",
              "show_counts : bool, optional\n",
              "    Whether to show the non-null counts. By default, this is shown\n",
              "    only if the DataFrame is smaller than\n",
              "    ``pandas.options.display.max_info_rows`` and\n",
              "    ``pandas.options.display.max_info_columns``. A value of True always\n",
              "    shows the counts, and False never shows the counts.\n",
              "\n",
              "Returns\n",
              "-------\n",
              "None\n",
              "    This method prints a summary of a DataFrame and returns None.\n",
              "\n",
              "See Also\n",
              "--------\n",
              "DataFrame.describe: Generate descriptive statistics of DataFrame\n",
              "    columns.\n",
              "DataFrame.memory_usage: Memory usage of DataFrame columns.\n",
              "\n",
              "Examples\n",
              "--------\n",
              "&gt;&gt;&gt; int_values = [1, 2, 3, 4, 5]\n",
              "&gt;&gt;&gt; text_values = [&#x27;alpha&#x27;, &#x27;beta&#x27;, &#x27;gamma&#x27;, &#x27;delta&#x27;, &#x27;epsilon&#x27;]\n",
              "&gt;&gt;&gt; float_values = [0.0, 0.25, 0.5, 0.75, 1.0]\n",
              "&gt;&gt;&gt; df = pd.DataFrame({&quot;int_col&quot;: int_values, &quot;text_col&quot;: text_values,\n",
              "...                   &quot;float_col&quot;: float_values})\n",
              "&gt;&gt;&gt; df\n",
              "    int_col text_col  float_col\n",
              "0        1    alpha       0.00\n",
              "1        2     beta       0.25\n",
              "2        3    gamma       0.50\n",
              "3        4    delta       0.75\n",
              "4        5  epsilon       1.00\n",
              "\n",
              "Prints information of all columns:\n",
              "\n",
              "&gt;&gt;&gt; df.info(verbose=True)\n",
              "&lt;class &#x27;pandas.core.frame.DataFrame&#x27;&gt;\n",
              "RangeIndex: 5 entries, 0 to 4\n",
              "Data columns (total 3 columns):\n",
              " #   Column     Non-Null Count  Dtype\n",
              "---  ------     --------------  -----\n",
              " 0   int_col    5 non-null      int64\n",
              " 1   text_col   5 non-null      object\n",
              " 2   float_col  5 non-null      float64\n",
              "dtypes: float64(1), int64(1), object(1)\n",
              "memory usage: 248.0+ bytes\n",
              "\n",
              "Prints a summary of columns count and its dtypes but not per column\n",
              "information:\n",
              "\n",
              "&gt;&gt;&gt; df.info(verbose=False)\n",
              "&lt;class &#x27;pandas.core.frame.DataFrame&#x27;&gt;\n",
              "RangeIndex: 5 entries, 0 to 4\n",
              "Columns: 3 entries, int_col to float_col\n",
              "dtypes: float64(1), int64(1), object(1)\n",
              "memory usage: 248.0+ bytes\n",
              "\n",
              "Pipe output of DataFrame.info to buffer instead of sys.stdout, get\n",
              "buffer content and writes to a text file:\n",
              "\n",
              "&gt;&gt;&gt; import io\n",
              "&gt;&gt;&gt; buffer = io.StringIO()\n",
              "&gt;&gt;&gt; df.info(buf=buffer)\n",
              "&gt;&gt;&gt; s = buffer.getvalue()\n",
              "&gt;&gt;&gt; with open(&quot;df_info.txt&quot;, &quot;w&quot;,\n",
              "...           encoding=&quot;utf-8&quot;) as f:  # doctest: +SKIP\n",
              "...     f.write(s)\n",
              "260\n",
              "\n",
              "The `memory_usage` parameter allows deep introspection mode, specially\n",
              "useful for big DataFrames and fine-tune memory optimization:\n",
              "\n",
              "&gt;&gt;&gt; random_strings_array = np.random.choice([&#x27;a&#x27;, &#x27;b&#x27;, &#x27;c&#x27;], 10 ** 6)\n",
              "&gt;&gt;&gt; df = pd.DataFrame({\n",
              "...     &#x27;column_1&#x27;: np.random.choice([&#x27;a&#x27;, &#x27;b&#x27;, &#x27;c&#x27;], 10 ** 6),\n",
              "...     &#x27;column_2&#x27;: np.random.choice([&#x27;a&#x27;, &#x27;b&#x27;, &#x27;c&#x27;], 10 ** 6),\n",
              "...     &#x27;column_3&#x27;: np.random.choice([&#x27;a&#x27;, &#x27;b&#x27;, &#x27;c&#x27;], 10 ** 6)\n",
              "... })\n",
              "&gt;&gt;&gt; df.info()\n",
              "&lt;class &#x27;pandas.core.frame.DataFrame&#x27;&gt;\n",
              "RangeIndex: 1000000 entries, 0 to 999999\n",
              "Data columns (total 3 columns):\n",
              " #   Column    Non-Null Count    Dtype\n",
              "---  ------    --------------    -----\n",
              " 0   column_1  1000000 non-null  object\n",
              " 1   column_2  1000000 non-null  object\n",
              " 2   column_3  1000000 non-null  object\n",
              "dtypes: object(3)\n",
              "memory usage: 22.9+ MB\n",
              "\n",
              "&gt;&gt;&gt; df.info(memory_usage=&#x27;deep&#x27;)\n",
              "&lt;class &#x27;pandas.core.frame.DataFrame&#x27;&gt;\n",
              "RangeIndex: 1000000 entries, 0 to 999999\n",
              "Data columns (total 3 columns):\n",
              " #   Column    Non-Null Count    Dtype\n",
              "---  ------    --------------    -----\n",
              " 0   column_1  1000000 non-null  object\n",
              " 1   column_2  1000000 non-null  object\n",
              " 2   column_3  1000000 non-null  object\n",
              "dtypes: object(3)\n",
              "memory usage: 165.9 MB</pre>\n",
              "      <script>\n",
              "      if (google.colab.kernel.accessAllowed && google.colab.files && google.colab.files.view) {\n",
              "        for (const element of document.querySelectorAll('.filepath')) {\n",
              "          element.style.display = 'block'\n",
              "          element.onclick = (event) => {\n",
              "            event.preventDefault();\n",
              "            event.stopPropagation();\n",
              "            google.colab.files.view(element.textContent, 3646);\n",
              "          };\n",
              "        }\n",
              "      }\n",
              "      for (const element of document.querySelectorAll('.function-repr-contents')) {\n",
              "        element.onclick = (event) => {\n",
              "          event.preventDefault();\n",
              "          event.stopPropagation();\n",
              "          element.classList.toggle('function-repr-contents-collapsed');\n",
              "        };\n",
              "      }\n",
              "      </script>\n",
              "      </div>"
            ],
            "text/plain": [
              "<bound method DataFrame.info of         duration protocol_type   service flag  src_bytes  dst_bytes  land  \\\n",
              "0              0           tcp  ftp_data   SF        491          0     0   \n",
              "1              0           udp     other   SF        146          0     0   \n",
              "2              0           tcp   private   S0          0          0     0   \n",
              "3              0           tcp      http   SF        232       8153     0   \n",
              "4              0           tcp      http   SF        199        420     0   \n",
              "...          ...           ...       ...  ...        ...        ...   ...   \n",
              "125968         0           tcp   private   S0          0          0     0   \n",
              "125969         8           udp   private   SF        105        145     0   \n",
              "125970         0           tcp      smtp   SF       2231        384     0   \n",
              "125971         0           tcp    klogin   S0          0          0     0   \n",
              "125972         0           tcp  ftp_data   SF        151          0     0   \n",
              "\n",
              "        wrong_fragment  urgent  hot  ...  dst_host_srv_count  \\\n",
              "0                    0       0    0  ...                  25   \n",
              "1                    0       0    0  ...                   1   \n",
              "2                    0       0    0  ...                  26   \n",
              "3                    0       0    0  ...                 255   \n",
              "4                    0       0    0  ...                 255   \n",
              "...                ...     ...  ...  ...                 ...   \n",
              "125968               0       0    0  ...                  25   \n",
              "125969               0       0    0  ...                 244   \n",
              "125970               0       0    0  ...                  30   \n",
              "125971               0       0    0  ...                   8   \n",
              "125972               0       0    0  ...                  77   \n",
              "\n",
              "        dst_host_same_srv_rate  dst_host_diff_srv_rate  \\\n",
              "0                         0.17                    0.03   \n",
              "1                         0.00                    0.60   \n",
              "2                         0.10                    0.05   \n",
              "3                         1.00                    0.00   \n",
              "4                         1.00                    0.00   \n",
              "...                        ...                     ...   \n",
              "125968                    0.10                    0.06   \n",
              "125969                    0.96                    0.01   \n",
              "125970                    0.12                    0.06   \n",
              "125971                    0.03                    0.05   \n",
              "125972                    0.30                    0.03   \n",
              "\n",
              "        dst_host_same_src_port_rate  dst_host_srv_diff_host_rate  \\\n",
              "0                              0.17                         0.00   \n",
              "1                              0.88                         0.00   \n",
              "2                              0.00                         0.00   \n",
              "3                              0.03                         0.04   \n",
              "4                              0.00                         0.00   \n",
              "...                             ...                          ...   \n",
              "125968                         0.00                         0.00   \n",
              "125969                         0.01                         0.00   \n",
              "125970                         0.00                         0.00   \n",
              "125971                         0.00                         0.00   \n",
              "125972                         0.30                         0.00   \n",
              "\n",
              "        dst_host_serror_rate  dst_host_srv_serror_rate  dst_host_rerror_rate  \\\n",
              "0                       0.00                      0.00                  0.05   \n",
              "1                       0.00                      0.00                  0.00   \n",
              "2                       1.00                      1.00                  0.00   \n",
              "3                       0.03                      0.01                  0.00   \n",
              "4                       0.00                      0.00                  0.00   \n",
              "...                      ...                       ...                   ...   \n",
              "125968                  1.00                      1.00                  0.00   \n",
              "125969                  0.00                      0.00                  0.00   \n",
              "125970                  0.72                      0.00                  0.01   \n",
              "125971                  1.00                      1.00                  0.00   \n",
              "125972                  0.00                      0.00                  0.00   \n",
              "\n",
              "        dst_host_srv_rerror_rate   labels  \n",
              "0                           0.00   normal  \n",
              "1                           0.00   normal  \n",
              "2                           0.00  neptune  \n",
              "3                           0.01   normal  \n",
              "4                           0.00   normal  \n",
              "...                          ...      ...  \n",
              "125968                      0.00  neptune  \n",
              "125969                      0.00   normal  \n",
              "125970                      0.00   normal  \n",
              "125971                      0.00  neptune  \n",
              "125972                      0.00   normal  \n",
              "\n",
              "[125973 rows x 42 columns]>"
            ]
          },
          "execution_count": 3,
          "metadata": {},
          "output_type": "execute_result"
        }
      ],
      "source": [
        "df.info"
      ]
    },
    {
      "cell_type": "code",
      "execution_count": null,
      "metadata": {
        "colab": {
          "base_uri": "https://localhost:8080/"
        },
        "id": "gDhE_UTmREqF",
        "outputId": "32e8f054-a6a4-4d9b-a42c-7773e723fdca"
      },
      "outputs": [
        {
          "data": {
            "text/plain": [
              "Index(['duration', 'protocol_type', 'service', 'flag', 'src_bytes',\n",
              "       'dst_bytes', 'land', 'wrong_fragment', 'urgent', 'hot',\n",
              "       'num_failed_logins', 'logged_in', 'num_compromised', 'root_shell',\n",
              "       'su_attempted', 'num_root', 'num_file_creations', 'num_shells',\n",
              "       'num_access_files', 'num_outbound_cmds', 'is_host_login',\n",
              "       'is_guest_login', 'count', 'srv_count', 'serror_rate',\n",
              "       'srv_serror_rate', 'rerror_rate', 'srv_rerror_rate', 'same_srv_rate',\n",
              "       'diff_srv_rate', 'srv_diff_host_rate', 'dst_host_count',\n",
              "       'dst_host_srv_count', 'dst_host_same_srv_rate',\n",
              "       'dst_host_diff_srv_rate', 'dst_host_same_src_port_rate',\n",
              "       'dst_host_srv_diff_host_rate', 'dst_host_serror_rate',\n",
              "       'dst_host_srv_serror_rate', 'dst_host_rerror_rate',\n",
              "       'dst_host_srv_rerror_rate', 'labels'],\n",
              "      dtype='object')"
            ]
          },
          "execution_count": 4,
          "metadata": {},
          "output_type": "execute_result"
        }
      ],
      "source": [
        "df.columns"
      ]
    },
    {
      "cell_type": "code",
      "execution_count": null,
      "metadata": {
        "id": "Czm-uR09REqF"
      },
      "outputs": [],
      "source": [
        "colunas_para_remover = ['protocol_type', 'service', 'flag']\n",
        "df = df.drop(colunas_para_remover, axis=1, errors='ignore')"
      ]
    },
    {
      "cell_type": "code",
      "execution_count": null,
      "metadata": {
        "colab": {
          "base_uri": "https://localhost:8080/"
        },
        "id": "kwIgK-gOREqF",
        "outputId": "4a330e91-0e46-4ef0-b18d-bc4fc5c06881"
      },
      "outputs": [
        {
          "data": {
            "text/plain": [
              "Index(['duration', 'src_bytes', 'dst_bytes', 'land', 'wrong_fragment',\n",
              "       'urgent', 'hot', 'num_failed_logins', 'logged_in', 'num_compromised',\n",
              "       'root_shell', 'su_attempted', 'num_root', 'num_file_creations',\n",
              "       'num_shells', 'num_access_files', 'num_outbound_cmds', 'is_host_login',\n",
              "       'is_guest_login', 'count', 'srv_count', 'serror_rate',\n",
              "       'srv_serror_rate', 'rerror_rate', 'srv_rerror_rate', 'same_srv_rate',\n",
              "       'diff_srv_rate', 'srv_diff_host_rate', 'dst_host_count',\n",
              "       'dst_host_srv_count', 'dst_host_same_srv_rate',\n",
              "       'dst_host_diff_srv_rate', 'dst_host_same_src_port_rate',\n",
              "       'dst_host_srv_diff_host_rate', 'dst_host_serror_rate',\n",
              "       'dst_host_srv_serror_rate', 'dst_host_rerror_rate',\n",
              "       'dst_host_srv_rerror_rate', 'labels'],\n",
              "      dtype='object')"
            ]
          },
          "execution_count": 6,
          "metadata": {},
          "output_type": "execute_result"
        }
      ],
      "source": [
        "df.columns"
      ]
    },
    {
      "cell_type": "code",
      "execution_count": null,
      "metadata": {
        "id": "Qv8hCZdeREqG"
      },
      "outputs": [],
      "source": [
        "attack_dict = {\n",
        "    'normal': 'normal',\n",
        "\n",
        "    'back': 'DoS',\n",
        "    'land': 'DoS',\n",
        "    'neptune': 'DoS',\n",
        "    'pod': 'DoS',\n",
        "    'smurf': 'DoS',\n",
        "    'teardrop': 'DoS',\n",
        "    'mailbomb': 'DoS',\n",
        "    'apache2': 'DoS',\n",
        "    'processtable': 'DoS',\n",
        "    'udpstorm': 'DoS',\n",
        "\n",
        "    'ipsweep': 'Probe',\n",
        "    'nmap': 'Probe',\n",
        "    'portsweep': 'Probe',\n",
        "    'satan': 'Probe',\n",
        "    'mscan': 'Probe',\n",
        "    'saint': 'Probe',\n",
        "\n",
        "    'ftp_write': 'R2L',\n",
        "    'guess_passwd': 'R2L',\n",
        "    'imap': 'R2L',\n",
        "    'multihop': 'R2L',\n",
        "    'phf': 'R2L',\n",
        "    'spy': 'R2L',\n",
        "    'warezclient': 'R2L',\n",
        "    'warezmaster': 'R2L',\n",
        "    'sendmail': 'R2L',\n",
        "    'named': 'R2L',\n",
        "    'snmpgetattack': 'R2L',\n",
        "    'snmpguess': 'R2L',\n",
        "    'xlock': 'R2L',\n",
        "    'xsnoop': 'R2L',\n",
        "    'worm': 'R2L',\n",
        "\n",
        "    'buffer_overflow': 'U2R',\n",
        "    'loadmodule': 'U2R',\n",
        "    'perl': 'U2R',\n",
        "    'rootkit': 'U2R',\n",
        "    'httptunnel': 'U2R',\n",
        "    'ps': 'U2R',\n",
        "    'sqlattack': 'U2R',\n",
        "    'xterm': 'U2R'\n",
        "}\n",
        "\n",
        "df['labels'] = df['labels'].map(attack_dict)"
      ]
    },
    {
      "cell_type": "code",
      "execution_count": null,
      "metadata": {
        "colab": {
          "base_uri": "https://localhost:8080/"
        },
        "id": "lBrTZrJ0REqG",
        "outputId": "a8a3e97a-f3e8-45ae-bb46-ba9a0ff7e1fc"
      },
      "outputs": [
        {
          "name": "stdout",
          "output_type": "stream",
          "text": [
            "No of unique items are: 5\n",
            "['normal', 'DoS', 'R2L', 'Probe', 'U2R']\n"
          ]
        }
      ],
      "source": [
        "l1 = []\n",
        "count = 0\n",
        "\n",
        "for item in df['labels']:\n",
        "    if item not in l1:\n",
        "        count += 1\n",
        "        l1.append(item)\n",
        "\n",
        "print(\"No of unique items are:\", count)\n",
        "print(l1)"
      ]
    },
    {
      "cell_type": "code",
      "execution_count": null,
      "metadata": {
        "id": "iTAVbpViREqG"
      },
      "outputs": [],
      "source": [
        "X = df.drop('labels', axis=1) # Features\n",
        "y = df['labels'] # Target"
      ]
    },
    {
      "cell_type": "code",
      "execution_count": null,
      "metadata": {
        "colab": {
          "base_uri": "https://localhost:8080/"
        },
        "id": "oWw9OzX6REqG",
        "outputId": "0115902f-3c66-478c-db21-8d446647cfad"
      },
      "outputs": [
        {
          "data": {
            "text/plain": [
              "array([[-0.11024922, -0.0076786 , -0.00491864, ..., -0.6248708 ,\n",
              "        -0.22453241, -0.37638703],\n",
              "       [-0.11024922, -0.00773737, -0.00491864, ..., -0.6248708 ,\n",
              "        -0.38763462, -0.37638703],\n",
              "       [-0.11024922, -0.00776224, -0.00491864, ...,  1.6189552 ,\n",
              "        -0.38763462, -0.37638703],\n",
              "       ...,\n",
              "       [-0.11024922, -0.00738219, -0.00482315, ..., -0.6248708 ,\n",
              "        -0.35501418, -0.37638703],\n",
              "       [-0.11024922, -0.00776224, -0.00491864, ...,  1.6189552 ,\n",
              "        -0.38763462, -0.37638703],\n",
              "       [-0.11024922, -0.00773652, -0.00491864, ..., -0.6248708 ,\n",
              "        -0.38763462, -0.37638703]])"
            ]
          },
          "execution_count": 10,
          "metadata": {},
          "output_type": "execute_result"
        }
      ],
      "source": [
        "from sklearn.preprocessing import StandardScaler\n",
        "scaler = StandardScaler()\n",
        "X = scaler.fit_transform(X)\n",
        "X"
      ]
    },
    {
      "cell_type": "code",
      "execution_count": null,
      "metadata": {
        "id": "yKm6plLGREqG"
      },
      "outputs": [],
      "source": [
        "from sklearn.model_selection import train_test_split\n",
        "\n",
        "X_train, X_test, y_train, y_test = train_test_split(X, y, test_size=0.3, random_state=42)"
      ]
    },
    {
      "cell_type": "code",
      "execution_count": null,
      "metadata": {
        "colab": {
          "base_uri": "https://localhost:8080/"
        },
        "id": "tW6uH0HgTmYd",
        "outputId": "8eae1c56-6030-4bf3-cd07-642c627b15bf"
      },
      "outputs": [
        {
          "data": {
            "text/plain": [
              "88181"
            ]
          },
          "execution_count": 12,
          "metadata": {},
          "output_type": "execute_result"
        }
      ],
      "source": [
        "y_train.size"
      ]
    },
    {
      "cell_type": "code",
      "execution_count": null,
      "metadata": {
        "colab": {
          "base_uri": "https://localhost:8080/"
        },
        "id": "z5iPCUVRToc6",
        "outputId": "ac3844c5-b0da-43ec-fb29-c5c2e212510e"
      },
      "outputs": [
        {
          "data": {
            "text/plain": [
              "37792"
            ]
          },
          "execution_count": 13,
          "metadata": {},
          "output_type": "execute_result"
        }
      ],
      "source": [
        "y_test.size"
      ]
    },
    {
      "cell_type": "markdown",
      "metadata": {
        "id": "Djww5vglTS77"
      },
      "source": [
        "# Variando Taxa de Aprendizado"
      ]
    },
    {
      "cell_type": "markdown",
      "metadata": {
        "id": "K8MQreQxqgge"
      },
      "source": [
        "## Rede"
      ]
    },
    {
      "cell_type": "code",
      "execution_count": null,
      "metadata": {
        "colab": {
          "base_uri": "https://localhost:8080/"
        },
        "id": "lsVPxMn6REqG",
        "outputId": "b7d9c116-608e-4599-e5b8-15a75db4ae90"
      },
      "outputs": [
        {
          "name": "stderr",
          "output_type": "stream",
          "text": [
            "/usr/local/lib/python3.11/dist-packages/sklearn/neural_network/_multilayer_perceptron.py:691: ConvergenceWarning: Stochastic Optimizer: Maximum iterations (100) reached and the optimization hasn't converged yet.\n",
            "  warnings.warn(\n",
            "/usr/local/lib/python3.11/dist-packages/sklearn/neural_network/_multilayer_perceptron.py:691: ConvergenceWarning: Stochastic Optimizer: Maximum iterations (100) reached and the optimization hasn't converged yet.\n",
            "  warnings.warn(\n",
            "/usr/local/lib/python3.11/dist-packages/sklearn/neural_network/_multilayer_perceptron.py:691: ConvergenceWarning: Stochastic Optimizer: Maximum iterations (100) reached and the optimization hasn't converged yet.\n",
            "  warnings.warn(\n"
          ]
        }
      ],
      "source": [
        "from sklearn.neural_network import MLPClassifier\n",
        "\n",
        "learningRates = [0.001, 0.005, 0.01, 0.05, 0.1]\n",
        "mlps = []\n",
        "\n",
        "for lr in learningRates:\n",
        "  mlps.append(MLPClassifier(hidden_layer_sizes=(11, 11), # Duas camadas ocultas de 11 nós\n",
        "                    activation='logistic', # Função sigmóide (logistic)\n",
        "                    solver='adam', # Otimizador adam (escolha padrão)\n",
        "                    max_iter=100, # Número máximo de épocas (conforme o artigo)\n",
        "                    random_state=42, # Para inicialização dos pesos\n",
        "                    learning_rate_init=lr, # Variando taxa de aprendizado inicial\n",
        "                    tol=1e-6) # Erro quadrático médio para parada (conforme o artigo)\n",
        "                    )\n",
        "\n",
        "for mlp in mlps:\n",
        "  mlp.fit(X_train, y_train)"
      ]
    },
    {
      "cell_type": "markdown",
      "metadata": {
        "id": "FK3cbUIvqgge"
      },
      "source": [
        "## Avaliação"
      ]
    },
    {
      "cell_type": "code",
      "source": [
        "from sklearn.metrics import accuracy_score, precision_score, recall_score, f1_score, confusion_matrix\n",
        "\n",
        "y_preds = []\n",
        "\n",
        "for mlp in mlps:\n",
        "  y_pred = mlp.predict(X_test)\n",
        "  y_preds.append(y_pred)"
      ],
      "metadata": {
        "id": "93FxvfYCFQvi"
      },
      "execution_count": null,
      "outputs": []
    },
    {
      "cell_type": "code",
      "execution_count": null,
      "metadata": {
        "colab": {
          "base_uri": "https://localhost:8080/",
          "height": 553
        },
        "id": "VdJG6CfeREqH",
        "outputId": "ecb96549-eca4-4862-a0c6-dc571a830f36"
      },
      "outputs": [
        {
          "name": "stdout",
          "output_type": "stream",
          "text": [
            "Acurácia do modelo MLP2 com taxa de aprendizado 0.001: 0.9895215918712955\n",
            "Acurácia do modelo MLP2 com taxa de aprendizado 0.005: 0.9914267569856055\n",
            "Acurácia do modelo MLP2 com taxa de aprendizado 0.01: 0.9916384419983065\n",
            "Acurácia do modelo MLP2 com taxa de aprendizado 0.05: 0.9874047417442845\n",
            "Acurácia do modelo MLP2 com taxa de aprendizado 0.1: 0.9846792972057579\n"
          ]
        },
        {
          "data": {
            "text/plain": [
              "Text(0.5, 0, 'Taxa de Aprendizado')"
            ]
          },
          "execution_count": 18,
          "metadata": {},
          "output_type": "execute_result"
        },
        {
          "data": {
            "image/png": "[encoded data removed]",
            "text/plain": [
              "<Figure size 640x480 with 1 Axes>"
            ]
          },
          "metadata": {},
          "output_type": "display_data"
        }
      ],
      "source": [
        "from sklearn.metrics import accuracy_score\n",
        "import matplotlib.pyplot as plt\n",
        "\n",
        "accuracies = []\n",
        "for y_pred in y_preds:\n",
        "  accuracies.append(accuracy_score(y_test, y_pred))\n",
        "\n",
        "for accuracy, lr in zip(accuracies,learningRates):\n",
        "  print(f\"Acurácia do modelo MLP2 com taxa de aprendizado {lr}: {accuracy}\")\n",
        "\n",
        "plt.plot(learningRates, accuracies)\n",
        "plt.axvline(0.01, color=\"purple\")\n",
        "plt.ylabel(\"Acurácia\")\n",
        "plt.xlabel(\"Taxa de Aprendizado\")"
      ]
    },
    {
      "cell_type": "code",
      "execution_count": null,
      "metadata": {
        "colab": {
          "base_uri": "https://localhost:8080/"
        },
        "id": "mz_mijnxREqI",
        "outputId": "2592fb15-1187-4895-8d37-f358b0c7724b"
      },
      "outputs": [
        {
          "name": "stdout",
          "output_type": "stream",
          "text": [
            "F1-Score do MLP2 com taxa de aprendizado 0.001:\n",
            " [0.99527604 0.97656473 0.84552846 0.27272727 0.99040231]\n",
            "\n",
            "Matriz de Confusão com taxa de aprendizado 0.001\n",
            " [[13800     1     1     0    23]\n",
            " [    3  3417     0     0   120]\n",
            " [    1     1   260     0    65]\n",
            " [    2     0     1     3    11]\n",
            " [  100    39    26     2 19916]]\n",
            "\n",
            "F1-Score do MLP2 com taxa de aprendizado 0.005:\n",
            " [0.99596105 0.98004246 0.89490446 0.48275862 0.99217582]\n",
            "\n",
            "Matriz de Confusão com taxa de aprendizado 0.005\n",
            " [[13809     4     0     0    12]\n",
            " [    0  3462     0     0    78]\n",
            " [    0     4   281     1    41]\n",
            " [    0     1     0     7     9]\n",
            " [   96    54    20     4 19909]]\n",
            "\n",
            "F1-Score do MLP2 com taxa de aprendizado 0.01:\n",
            " [0.99592426 0.98001417 0.90232558 0.6        0.99244935]\n",
            "\n",
            "Matriz de Confusão com taxa de aprendizado 0.01\n",
            " [[13806     7     2     0    10]\n",
            " [    2  3457     0     0    81]\n",
            " [    0     1   291     0    35]\n",
            " [    0     1     0     9     7]\n",
            " [   92    49    25     4 19913]]\n",
            "\n",
            "F1-Score do MLP2 com taxa de aprendizado 0.05:\n",
            " [0.99491507 0.97588126 0.75761974 0.19047619 0.98858937]\n",
            "\n",
            "Matriz de Confusão com taxa de aprendizado 0.05\n",
            " [[13794     1     8     0    22]\n",
            " [    4  3419     0     0   117]\n",
            " [    0     2   261     0    64]\n",
            " [    0     0     3     2    12]\n",
            " [  106    45    90     2 19840]]\n",
            "\n",
            "F1-Score do MLP2 com taxa de aprendizado 0.1:\n",
            " [0.9934763  0.96984149 0.65671642 0.         0.98602983]\n",
            "\n",
            "Matriz de Confusão com taxa de aprendizado 0.1\n",
            " [[13782     9     0     0    34]\n",
            " [    2  3457     0     0    81]\n",
            " [    1     4   176     0   146]\n",
            " [    0     1     1     0    15]\n",
            " [  135   118    32     0 19798]]\n",
            "\n"
          ]
        }
      ],
      "source": [
        "from sklearn.metrics import confusion_matrix\n",
        "\n",
        "classes = ['DoS', 'U2R', 'R2L', 'Probe', 'Normal']\n",
        "\n",
        "cms = []\n",
        "\n",
        "f1scrs = []\n",
        "\n",
        "for y_pred in y_preds:\n",
        "  cms.append(confusion_matrix(y_test, y_pred))\n",
        "  f1scrs.append(f1_score(y_test, y_pred, average=None))\n",
        "\n",
        "i = 0\n",
        "for cm, lr in zip(cms,learningRates):\n",
        "  print(f\"F1-Score do MLP2 com taxa de aprendizado {lr}:\\n {f1scrs[i]}\\n\")\n",
        "  print(f\"Matriz de Confusão com taxa de aprendizado {lr}\\n {cm}\\n\")\n",
        "  i+=1"
      ]
    },
    {
      "cell_type": "code",
      "execution_count": null,
      "metadata": {
        "colab": {
          "base_uri": "https://localhost:8080/"
        },
        "id": "MKiR9IeFREqI",
        "outputId": "e7253f66-c19d-4375-edd3-6b695000917c"
      },
      "outputs": [
        {
          "name": "stdout",
          "output_type": "stream",
          "text": [
            "        Accuracy\n",
            "DoS     0.995276\n",
            "U2R     0.976565\n",
            "R2L     0.845528\n",
            "Probe   0.272727\n",
            "Normal  0.990402\n",
            "\n",
            "          DoS   U2R  R2L  Probe  Normal\n",
            "DoS     13800     1    1      0      23\n",
            "U2R         3  3417    0      0     120\n",
            "R2L         1     1  260      0      65\n",
            "Probe       2     0    1      3      11\n",
            "Normal    100    39   26      2   19916\n",
            "\n",
            "        Accuracy\n",
            "DoS     0.995961\n",
            "U2R     0.980042\n",
            "R2L     0.894904\n",
            "Probe   0.482759\n",
            "Normal  0.992176\n",
            "\n",
            "          DoS   U2R  R2L  Probe  Normal\n",
            "DoS     13809     4    0      0      12\n",
            "U2R         0  3462    0      0      78\n",
            "R2L         0     4  281      1      41\n",
            "Probe       0     1    0      7       9\n",
            "Normal     96    54   20      4   19909\n",
            "\n",
            "        Accuracy\n",
            "DoS     0.995924\n",
            "U2R     0.980014\n",
            "R2L     0.902326\n",
            "Probe   0.600000\n",
            "Normal  0.992449\n",
            "\n",
            "          DoS   U2R  R2L  Probe  Normal\n",
            "DoS     13806     7    2      0      10\n",
            "U2R         2  3457    0      0      81\n",
            "R2L         0     1  291      0      35\n",
            "Probe       0     1    0      9       7\n",
            "Normal     92    49   25      4   19913\n",
            "\n",
            "        Accuracy\n",
            "DoS     0.994915\n",
            "U2R     0.975881\n",
            "R2L     0.757620\n",
            "Probe   0.190476\n",
            "Normal  0.988589\n",
            "\n",
            "          DoS   U2R  R2L  Probe  Normal\n",
            "DoS     13794     1    8      0      22\n",
            "U2R         4  3419    0      0     117\n",
            "R2L         0     2  261      0      64\n",
            "Probe       0     0    3      2      12\n",
            "Normal    106    45   90      2   19840\n",
            "\n",
            "        Accuracy\n",
            "DoS     0.993476\n",
            "U2R     0.969841\n",
            "R2L     0.656716\n",
            "Probe   0.000000\n",
            "Normal  0.986030\n",
            "\n",
            "          DoS   U2R  R2L  Probe  Normal\n",
            "DoS     13782     9    0      0      34\n",
            "U2R         2  3457    0      0      81\n",
            "R2L         1     4  176      0     146\n",
            "Probe       0     1    1      0      15\n",
            "Normal    135   118   32      0   19798\n",
            "\n"
          ]
        }
      ],
      "source": [
        "import pandas as pd\n",
        "\n",
        "for cm, f1scr in zip(cms,f1scrs):\n",
        "    df_f1scr = pd.DataFrame(f1scr, index=classes, columns=[\"Accuracy\"])\n",
        "    df_cm = pd.DataFrame(cm, index=classes, columns=classes)\n",
        "    print(df_f1scr)\n",
        "    print()\n",
        "    print(df_cm)\n",
        "    print()"
      ]
    },
    {
      "cell_type": "markdown",
      "metadata": {
        "id": "DQINf1tAREqL"
      },
      "source": [
        "# Variando Função de Ativação\n",
        "Fixando learning rate = 0,01"
      ]
    },
    {
      "cell_type": "markdown",
      "metadata": {
        "id": "YAHnQJoTqggf"
      },
      "source": [
        "## Rede"
      ]
    },
    {
      "cell_type": "code",
      "execution_count": null,
      "metadata": {
        "id": "3DI29vWUREqL"
      },
      "outputs": [],
      "source": [
        "mlps_func_ativacao = []\n",
        "func_ativacao = ['identity', 'tanh', 'relu', 'logistic']\n",
        "\n",
        "for f in func_ativacao:\n",
        "    mlps_func_ativacao.append(MLPClassifier(hidden_layer_sizes = (11, 11), # Duas camadas ocultas de 11 nós\n",
        "                    activation=f, # Variando a função de ativação\n",
        "                    solver='adam', # Otimizador adam (escolha padrão)\n",
        "                    max_iter=100, # Número máximo de épocas (conforme o artigo)\n",
        "                    random_state=42, # Para inicialização dos pesos\n",
        "                    learning_rate_init=0.01, # Taxa de aprendizado inicial\n",
        "                    tol=1e-6) # Erro quadrático médio para parada (conforme o artigo)\n",
        "                    )"
      ]
    },
    {
      "cell_type": "code",
      "execution_count": null,
      "metadata": {
        "colab": {
          "base_uri": "https://localhost:8080/"
        },
        "id": "BqZVcnNAREqL",
        "outputId": "d459bc88-fc3e-42f9-d5be-f35733659b96"
      },
      "outputs": [
        {
          "name": "stderr",
          "output_type": "stream",
          "text": [
            "/usr/local/lib/python3.11/dist-packages/sklearn/neural_network/_multilayer_perceptron.py:691: ConvergenceWarning: Stochastic Optimizer: Maximum iterations (100) reached and the optimization hasn't converged yet.\n",
            "  warnings.warn(\n"
          ]
        }
      ],
      "source": [
        "for mlp_fa in mlps_func_ativacao:\n",
        "    mlp_fa.fit(X_train, y_train)"
      ]
    },
    {
      "cell_type": "markdown",
      "metadata": {
        "id": "aFU8OqiZqggf"
      },
      "source": [
        "## Avaliação"
      ]
    },
    {
      "cell_type": "code",
      "execution_count": null,
      "metadata": {
        "id": "zrCAK3zeREqM"
      },
      "outputs": [],
      "source": [
        "acuracia_fa = []\n",
        "cm_fa = []\n",
        "\n",
        "for mlp_fa in mlps_func_ativacao:\n",
        "    y_pred_fa = mlp_fa.predict(X_test)\n",
        "    acuracia_fa.append(accuracy_score(y_test, y_pred_fa))\n",
        "    cm_fa.append(confusion_matrix(y_test, y_pred_fa))\n"
      ]
    },
    {
      "cell_type": "code",
      "execution_count": null,
      "metadata": {
        "colab": {
          "base_uri": "https://localhost:8080/"
        },
        "id": "lANWVic0REqM",
        "outputId": "109f0ea3-f2a8-4f28-96e7-7d30a7e1c449"
      },
      "outputs": [
        {
          "name": "stdout",
          "output_type": "stream",
          "text": [
            "Acurácia do modelo MLP2 com a função de ativação identity: 0.9467347586790855\n",
            "Matriz de Confusão com a função de ativação identity:\n",
            "\n",
            "          DoS   U2R  R2L  Probe  Normal\n",
            "DoS     13596    26    0      0     203\n",
            "U2R       107  2905    1      0     527\n",
            "R2L         7     1  218      0     101\n",
            "Probe       0     0    4      2      11\n",
            "Normal    221   608  196      0   19058\n",
            "\n",
            "Acurácia do modelo MLP2 com a função de ativação tanh: 0.9906064775613886\n",
            "Matriz de Confusão com a função de ativação tanh:\n",
            "\n",
            "          DoS   U2R  R2L  Probe  Normal\n",
            "DoS     13795     2    1      0      27\n",
            "U2R         0  3439    0      0     101\n",
            "R2L         0     0  281      1      45\n",
            "Probe       0     0    0      3      14\n",
            "Normal     91    45   26      2   19919\n",
            "\n",
            "Acurácia do modelo MLP2 com a função de ativação relu: 0.9911356900931414\n",
            "Matriz de Confusão com a função de ativação relu:\n",
            "\n",
            "          DoS   U2R  R2L  Probe  Normal\n",
            "DoS     13799     2    2      0      22\n",
            "U2R         2  3429    0      0     109\n",
            "R2L         0     1  293      0      33\n",
            "Probe       0     0    0      0      17\n",
            "Normal     80    32   35      0   19936\n",
            "\n",
            "Acurácia do modelo MLP2 com a função de ativação logistic: 0.9916384419983065\n",
            "Matriz de Confusão com a função de ativação logistic:\n",
            "\n",
            "          DoS   U2R  R2L  Probe  Normal\n",
            "DoS     13806     7    2      0      10\n",
            "U2R         2  3457    0      0      81\n",
            "R2L         0     1  291      0      35\n",
            "Probe       0     1    0      9       7\n",
            "Normal     92    49   25      4   19913\n",
            "\n"
          ]
        }
      ],
      "source": [
        "classes = ['DoS', 'U2R', 'R2L', 'Probe', 'Normal']\n",
        "\n",
        "for i in range(len(mlps_func_ativacao)):\n",
        "    print(f\"Acurácia do modelo MLP2 com a função de ativação {func_ativacao[i]}: {acuracia_fa[i]}\")\n",
        "    print(f\"Matriz de Confusão com a função de ativação {func_ativacao[i]}:\\n\")\n",
        "    print(pd.DataFrame(cm_fa[i], index=classes, columns=classes))\n",
        "    print()"
      ]
    },
    {
      "cell_type": "markdown",
      "metadata": {
        "id": "4gguG0CWREqM"
      },
      "source": [
        "# Variando o Número de Neurônios nas Camadas Escondidas\n",
        "Fixando learning rate = 0,01 e função de ativação = sigmoid"
      ]
    },
    {
      "cell_type": "markdown",
      "metadata": {
        "id": "yu_xl6swqggf"
      },
      "source": [
        "## Rede"
      ]
    },
    {
      "cell_type": "code",
      "execution_count": null,
      "metadata": {
        "id": "55FL8pMDREqM"
      },
      "outputs": [],
      "source": [
        "mlps_num_neuronios = []\n",
        "num_neuronios = [(8, 8), (16, 8), (16, 16), (32, 16), (32, 32), (64, 32), (64, 64)]\n",
        "\n",
        "for n in num_neuronios:\n",
        "    mlps_num_neuronios.append(MLPClassifier(hidden_layer_sizes = n, # Variando o número de neurônios nas camadas escondidas\n",
        "                    activation='logistic', # Função sigmóide (conforme o artigo)\n",
        "                    solver='adam', # Otimizador adam (escolha padrão)\n",
        "                    max_iter=100, # Número máximo de épocas (conforme o artigo)\n",
        "                    random_state=42, # Para inicialização dos pesos\n",
        "                    learning_rate_init=0.01, # Taxa de aprendizado inicial\n",
        "                    tol=1e-6) # Erro quadrático médio para parada (conforme o artigo)\n",
        "                    )"
      ]
    },
    {
      "cell_type": "code",
      "execution_count": null,
      "metadata": {
        "colab": {
          "base_uri": "https://localhost:8080/"
        },
        "id": "_K-s2SlwREqM",
        "outputId": "93d7e939-d6fe-4802-8762-5907e3b6ca3e"
      },
      "outputs": [
        {
          "name": "stderr",
          "output_type": "stream",
          "text": [
            "/usr/local/lib/python3.11/dist-packages/sklearn/neural_network/_multilayer_perceptron.py:691: ConvergenceWarning: Stochastic Optimizer: Maximum iterations (100) reached and the optimization hasn't converged yet.\n",
            "  warnings.warn(\n"
          ]
        }
      ],
      "source": [
        "for mlp_nn in mlps_num_neuronios:\n",
        "    mlp_nn.fit(X_train, y_train)"
      ]
    },
    {
      "cell_type": "markdown",
      "metadata": {
        "id": "ynxPu4YHqggf"
      },
      "source": [
        "## Avaliação"
      ]
    },
    {
      "cell_type": "code",
      "execution_count": null,
      "metadata": {
        "id": "mSSofYY9REqM"
      },
      "outputs": [],
      "source": [
        "acuracia_num_neuronios = []\n",
        "cm_num_neuronios = []\n",
        "f1scrs_n = []\n",
        "\n",
        "for mlp_nn in mlps_num_neuronios:\n",
        "    y_pred_nn = mlp_nn.predict(X_test)\n",
        "    acuracia_num_neuronios.append(accuracy_score(y_test, y_pred_nn))\n",
        "    cm_num_neuronios.append(confusion_matrix(y_test, y_pred_nn))\n",
        "    f1scrs_n.append(f1_score(y_test, y_pred_nn, average=None))\n"
      ]
    },
    {
      "cell_type": "code",
      "execution_count": null,
      "metadata": {
        "colab": {
          "base_uri": "https://localhost:8080/"
        },
        "id": "rgSRzcexREqM",
        "outputId": "bf79f8ae-4af9-4166-c069-27fecad02954"
      },
      "outputs": [
        {
          "name": "stdout",
          "output_type": "stream",
          "text": [
            "Acurácia do modelo MLP2 com configuração (8, 8): 0.9879604149026249\n",
            "F1-Score do modelo com configuração (8, 8):\n",
            "\n",
            "        Accuracy\n",
            "DoS     0.994238\n",
            "U2R     0.970855\n",
            "R2L     0.858491\n",
            "Probe   0.333333\n",
            "Normal  0.989073 \n",
            "\n",
            "Matriz de Confusão com configuração (8, 8):\n",
            "\n",
            "          DoS   U2R  R2L  Probe  Normal\n",
            "DoS     13805     4    1      0      15\n",
            "U2R         7  3431    0      0     102\n",
            "R2L         0     2  273      1      51\n",
            "Probe       1     1    0      4      11\n",
            "Normal    132    90   35      2   19824\n",
            "\n",
            "Acurácia do modelo MLP2 com configuração (16, 8): 0.9917972057578324\n",
            "F1-Score do modelo com configuração (16, 8):\n",
            "\n",
            "        Accuracy\n",
            "DoS     0.995740\n",
            "U2R     0.981772\n",
            "R2L     0.908810\n",
            "Probe   0.400000\n",
            "Normal  0.992550 \n",
            "\n",
            "Matriz de Confusão com configuração (16, 8):\n",
            "\n",
            "          DoS   U2R  R2L  Probe  Normal\n",
            "DoS     13792     5    0      1      27\n",
            "U2R         2  3474    0      0      64\n",
            "R2L         0     2  294      0      31\n",
            "Probe       0     1    0      5      11\n",
            "Normal     83    55   26      2   19917\n",
            "\n",
            "Acurácia do modelo MLP2 com configuração (16, 16): 0.9889923793395428\n",
            "F1-Score do modelo com configuração (16, 16):\n",
            "\n",
            "        Accuracy\n",
            "DoS     0.994003\n",
            "U2R     0.980258\n",
            "R2L     0.848214\n",
            "Probe   0.444444\n",
            "Normal  0.989797 \n",
            "\n",
            "Matriz de Confusão com configuração (16, 16):\n",
            "\n",
            "          DoS   U2R  R2L  Probe  Normal\n",
            "DoS     13674     0    1      0     150\n",
            "U2R         0  3426    0      0     114\n",
            "R2L         1     1  285      0      40\n",
            "Probe       1     0    0      6      10\n",
            "Normal     12    23   59      4   19985\n",
            "\n",
            "Acurácia do modelo MLP2 com configuração (32, 16): 0.9922999576629975\n",
            "F1-Score do modelo com configuração (32, 16):\n",
            "\n",
            "        Accuracy\n",
            "DoS     0.996139\n",
            "U2R     0.982715\n",
            "R2L     0.916149\n",
            "Probe   0.400000\n",
            "Normal  0.992925 \n",
            "\n",
            "Matriz de Confusão com configuração (32, 16):\n",
            "\n",
            "          DoS   U2R  R2L  Probe  Normal\n",
            "DoS     13803     5    0      0      17\n",
            "U2R         0  3468    0      0      72\n",
            "R2L         0     1  295      0      31\n",
            "Probe       0     1    0      5      11\n",
            "Normal     85    43   22      3   19930\n",
            "\n",
            "Acurácia do modelo MLP2 com configuração (32, 32): 0.9920088907705334\n",
            "F1-Score do modelo com configuração (32, 32):\n",
            "\n",
            "        Accuracy\n",
            "DoS     0.996209\n",
            "U2R     0.982790\n",
            "R2L     0.901198\n",
            "Probe   0.480000\n",
            "Normal  0.992555 \n",
            "\n",
            "Matriz de Confusão com configuração (32, 32):\n",
            "\n",
            "          DoS   U2R  R2L  Probe  Normal\n",
            "DoS     13797     2    0      0      26\n",
            "U2R         0  3455    0      0      85\n",
            "R2L         0     1  301      0      25\n",
            "Probe       0     0    0      6      11\n",
            "Normal     77    33   40      2   19931\n",
            "\n",
            "Acurácia do modelo MLP2 com configuração (64, 32): 0.9925381033022862\n",
            "F1-Score do modelo com configuração (64, 32):\n",
            "\n",
            "        Accuracy\n",
            "DoS     0.996391\n",
            "U2R     0.982574\n",
            "R2L     0.921875\n",
            "Probe   0.400000\n",
            "Normal  0.993215 \n",
            "\n",
            "Matriz de Confusão com configuração (64, 32):\n",
            "\n",
            "          DoS   U2R  R2L  Probe  Normal\n",
            "DoS     13805     6    0      0      14\n",
            "U2R         0  3496    0      0      44\n",
            "R2L         0     3  295      0      29\n",
            "Probe       0     1    0      6      10\n",
            "Normal     80    70   18      7   19908\n",
            "\n",
            "Acurácia do modelo MLP2 com configuração (64, 64): 0.9927762489415749\n",
            "F1-Score do modelo com configuração (64, 64):\n",
            "\n",
            "        Accuracy\n",
            "DoS     0.996140\n",
            "U2R     0.984490\n",
            "R2L     0.917574\n",
            "Probe   0.461538\n",
            "Normal  0.993467 \n",
            "\n",
            "Matriz de Confusão com configuração (64, 64):\n",
            "\n",
            "          DoS   U2R  R2L  Probe  Normal\n",
            "DoS     13805     5    0      0      15\n",
            "U2R         1  3491    0      0      48\n",
            "R2L         0     4  295      0      28\n",
            "Probe       0     1    0      6      10\n",
            "Normal     86    51   21      3   19922\n",
            "\n"
          ]
        }
      ],
      "source": [
        "classes = ['DoS', 'U2R', 'R2L', 'Probe', 'Normal']\n",
        "\n",
        "for i in range(len(mlps_num_neuronios)):\n",
        "    print(f\"Acurácia do modelo MLP2 com configuração {num_neuronios[i]}: {acuracia_num_neuronios[i]}\")\n",
        "    #linha é o dado real, coluna é o dado predito\n",
        "    print(f\"F1-Score do modelo com configuração {num_neuronios[i]}:\\n\")\n",
        "    print(pd.DataFrame(f1scrs_n[i], index=classes, columns=[\"Accuracy\"]),\"\\n\")\n",
        "    print(f\"Matriz de Confusão com configuração {num_neuronios[i]}:\\n\")\n",
        "    print(pd.DataFrame(cm_num_neuronios[i], index=classes, columns=classes))\n",
        "    print()\n"
      ]
    },
    {
      "cell_type": "markdown",
      "metadata": {
        "id": "u-_xudeck4Z2"
      },
      "source": [
        "# Experimentos Adicionando uma Terceira Camada Oculta\n",
        "Fixando learning rate = 0,01, função de ativação = sigmoid, camada 1 = 32 e camada 2 = 16"
      ]
    },
    {
      "cell_type": "markdown",
      "metadata": {
        "id": "cKaB5GvYqggg"
      },
      "source": [
        "## Rede"
      ]
    },
    {
      "cell_type": "code",
      "execution_count": null,
      "metadata": {
        "id": "Id5kub0blfze"
      },
      "outputs": [],
      "source": [
        "camadas = [(32,16,8), (32,16,11), (32,16,16)]\n",
        "mlp3s = []\n",
        "\n",
        "for c in camadas:\n",
        "  mlp3s.append(MLPClassifier(hidden_layer_sizes=c,# Variando o número de neurônios na camada escondida adicionada\n",
        "                    activation='logistic', # Função sigmóide (conforme o artigo)\n",
        "                    solver='adam', # Otimizador adam (escolha padrão)\n",
        "                    max_iter=100, # Número máximo de épocas (conforme o artigo)\n",
        "                    random_state=42, # Para inicialização dos pesos\n",
        "                    learning_rate_init=0.01, # Taxa de aprendizado inicial\n",
        "                    tol=1e-6) # Erro quadrático médio para parada (conforme o artigo)\n",
        "  )\n",
        "for mlp3 in mlp3s:\n",
        "  mlp3.fit(X_train, y_train)"
      ]
    },
    {
      "cell_type": "markdown",
      "metadata": {
        "id": "yC5wToUHqggj"
      },
      "source": [
        "## Avaliação"
      ]
    },
    {
      "cell_type": "code",
      "execution_count": null,
      "metadata": {
        "colab": {
          "base_uri": "https://localhost:8080/"
        },
        "id": "R4Q767V8nUWm",
        "outputId": "2882a82d-fdb1-49f8-86ff-2bc35147e9a8"
      },
      "outputs": [
        {
          "name": "stdout",
          "output_type": "stream",
          "text": [
            "Acurácia do modelo MLP3: 0.9911886113463166\n",
            "Matriz de Confusão:\n",
            "\n",
            "          DoS   U2R  R2L  Probe  Normal\n",
            "DoS     13792     3    1      0      29\n",
            "U2R         0  3462    0      0      78\n",
            "R2L         0     0  278      0      49\n",
            "Probe       0     1    1      5      10\n",
            "Normal     81    44   33      3   19922\n",
            "\n",
            "Acurácia do modelo MLP3: 0.9922205757832345\n",
            "Matriz de Confusão:\n",
            "\n",
            "          DoS   U2R  R2L  Probe  Normal\n",
            "DoS     13807     4    0      0      14\n",
            "U2R         1  3478    0      0      61\n",
            "R2L         0     2  294      0      31\n",
            "Probe       0     1    0      7       9\n",
            "Normal     93    41   30      7   19912\n",
            "\n",
            "Acurácia do modelo MLP3: 0.9927762489415749\n",
            "Matriz de Confusão:\n",
            "\n",
            "          DoS   U2R  R2L  Probe  Normal\n",
            "DoS     13804     1    0      0      20\n",
            "U2R         1  3453    0      0      86\n",
            "R2L         0     1  296      0      30\n",
            "Probe       0     0    0      6      11\n",
            "Normal     72    22   27      2   19960\n",
            "\n"
          ]
        }
      ],
      "source": [
        "acuracias_mlp3 = []\n",
        "cms_mlp3 = []\n",
        "\n",
        "for mlp3 in mlp3s:\n",
        "  pred = mlp3.predict(X_test)\n",
        "  acuracias_mlp3.append(accuracy_score(y_test, pred))\n",
        "  cms_mlp3.append(confusion_matrix(y_test, pred))\n",
        "\n",
        "for i in range(len(mlp3s)):\n",
        "    print(f\"Acurácia do modelo MLP3: {acuracias_mlp3[i]}\")\n",
        "    print(f\"Matriz de Confusão:\\n\")\n",
        "    print(pd.DataFrame(cms_mlp3[i], index=classes, columns=classes))\n",
        "    print()\n"
      ]
    },
    {
      "cell_type": "markdown",
      "metadata": {
        "id": "gYPZFAxfSLvu"
      },
      "source": [
        "# Função para Calcular F1-Score das Redes Escolhidas\n",
        "\n",
        "(com base em cada experimento)"
      ]
    },
    {
      "cell_type": "code",
      "execution_count": null,
      "metadata": {
        "id": "w3Mxgue2REqN"
      },
      "outputs": [],
      "source": [
        "import numpy as np\n",
        "\n",
        "def calcular_f1(conf_matrix):\n",
        "    conf_matrix = np.array(conf_matrix)\n",
        "    num_classes = 5\n",
        "\n",
        "    f1_scores = []\n",
        "\n",
        "    for i in range(num_classes):\n",
        "        tp = conf_matrix[i, i]\n",
        "        fp = sum(conf_matrix[:, i]) - tp\n",
        "        fn = sum(conf_matrix[i, :]) - tp\n",
        "\n",
        "        precision = tp / (tp + fp) if (tp + fp) > 0 else 0\n",
        "        recall = tp / (tp + fn) if (tp + fn) > 0 else 0\n",
        "\n",
        "        f1 = (2 * precision * recall) / (precision + recall) if (precision + recall) > 0 else 0\n",
        "        f1_scores.append(f1)\n",
        "\n",
        "    return f1_scores"
      ]
    },
    {
      "cell_type": "markdown",
      "metadata": {
        "id": "7BnQxmIUqggj"
      },
      "source": [
        "### MLP2 do Artigo"
      ]
    },
    {
      "cell_type": "code",
      "execution_count": null,
      "metadata": {
        "id": "AxuALXZ3qggj",
        "outputId": "9fc8c6b8-c006-47c6-e3b6-931701a404cc"
      },
      "outputs": [
        {
          "name": "stdout",
          "output_type": "stream",
          "text": [
            "F1-score para classe DoS: 0.9872639120052102\n",
            "\n",
            "F1-score para classe U2R: 0.9571652198662302\n",
            "\n",
            "F1-score para classe R2L: 0.47619047619047616\n",
            "\n",
            "F1-score para classe Probe: 0\n",
            "\n",
            "F1-score para classe Normal: 0.98220517262715\n",
            "\n"
          ]
        }
      ],
      "source": [
        "classes = ['DoS', 'U2R', 'R2L', 'Probe', 'Normal']\n",
        "\n",
        "conf_matrix_mlp2 = [\n",
        "    [13643,     27,    44,      0,      23],\n",
        "    [27,  3363,    4,      0,      138],\n",
        "    [0,     3,  120,      0,      167],\n",
        "    [0,     0,    0,      0,      12],\n",
        "    [231,    102,   46,      0,   19843]\n",
        "]\n",
        "\n",
        "f1_scores_mlp2 = calcular_f1(conf_matrix_mlp2)\n",
        "\n",
        "for i in range(len(classes)):\n",
        "    print(f\"F1-score para classe {classes[i]}: {f1_scores_mlp2[i]}\\n\")"
      ]
    },
    {
      "cell_type": "markdown",
      "metadata": {
        "id": "9GK7FQGGqggj"
      },
      "source": [
        "### MLP (11, 11) com Taxa de Aprendizado = 0.01 e Função de Ativação = Sigmóide"
      ]
    },
    {
      "cell_type": "code",
      "execution_count": null,
      "metadata": {
        "id": "Eby__xqyqggj",
        "outputId": "fb34e83b-f351-4f85-faf0-bc991a8751f9"
      },
      "outputs": [
        {
          "name": "stdout",
          "output_type": "stream",
          "text": [
            "F1-score para classe DoS: 0.9959242560865644\n",
            "\n",
            "F1-score para classe U2R: 0.9800141743444365\n",
            "\n",
            "F1-score para classe R2L: 0.9023255813953488\n",
            "\n",
            "F1-score para classe Probe: 0.5999999999999999\n",
            "\n",
            "F1-score para classe Normal: 0.9924493508435296\n",
            "\n"
          ]
        }
      ],
      "source": [
        "conf_matrix_ta = [\n",
        "    [13806,     7,     2,     0,    10],\n",
        "    [    2,  3457,     0,     0,    81],\n",
        "    [    0,     1,   291,     0,    35],\n",
        "    [    0,     1,     0,     9,     7],\n",
        "    [   92,    49,    25,     4, 19913]\n",
        "]\n",
        "\n",
        "f1_scores_ta = calcular_f1(conf_matrix_ta)\n",
        "\n",
        "for i in range(len(classes)):\n",
        "    print(f\"F1-score para classe {classes[i]}: {f1_scores_ta[i]}\\n\")"
      ]
    },
    {
      "cell_type": "markdown",
      "metadata": {
        "id": "17oLXy2Eqggk"
      },
      "source": [
        "### MLP (32, 16)"
      ]
    },
    {
      "cell_type": "code",
      "execution_count": null,
      "metadata": {
        "id": "hblCoB8tqggk",
        "outputId": "21c4c2e7-243e-4f43-e4d2-e03c39cd1943"
      },
      "outputs": [
        {
          "name": "stdout",
          "output_type": "stream",
          "text": [
            "F1-score para classe DoS: 0.9961389961389961\n",
            "\n",
            "F1-score para classe U2R: 0.982714650042505\n",
            "\n",
            "F1-score para classe R2L: 0.9161490683229814\n",
            "\n",
            "F1-score para classe Probe: 0.4\n",
            "\n",
            "F1-score para classe Normal: 0.9929254683140694\n",
            "\n"
          ]
        }
      ],
      "source": [
        "conf_matrix_nn = [\n",
        "    [13803, 5, 0, 0, 17],\n",
        "    [0,  3468,    0,      0,      72],\n",
        "    [0,     1,  295,      0,      31],\n",
        "    [0,     1,    0,      5,      11],\n",
        "    [85,    43,   22,      3,   19930]\n",
        "]\n",
        "\n",
        "f1_scores_nn = calcular_f1(conf_matrix_nn)\n",
        "\n",
        "for i in range(len(classes)):\n",
        "    print(f\"F1-score para classe {classes[i]}: {f1_scores_nn[i]}\\n\")"
      ]
    },
    {
      "cell_type": "markdown",
      "metadata": {
        "id": "xDhFxmnQqggk"
      },
      "source": [
        "### MLP (32, 16, 16)"
      ]
    },
    {
      "cell_type": "code",
      "execution_count": null,
      "metadata": {
        "id": "7Kpa42Keqggk",
        "outputId": "33c1e7f4-57c0-4921-a5e7-78b436b105c7"
      },
      "outputs": [
        {
          "name": "stdout",
          "output_type": "stream",
          "text": [
            "F1-score para classe DoS: 0.9966067431954372\n",
            "\n",
            "F1-score para classe U2R: 0.9841812740487389\n",
            "\n",
            "F1-score para classe R2L: 0.9107692307692308\n",
            "\n",
            "F1-score para classe Probe: 0.48\n",
            "\n",
            "F1-score para classe Normal: 0.9932819109231152\n",
            "\n"
          ]
        }
      ],
      "source": [
        "conf_matrix_nc = [\n",
        "    [13804,     1,    0,      0,      20],\n",
        "    [1,  3453,    0,      0,      86],\n",
        "    [0,     1,  296,      0,      30],\n",
        "    [0,     0,    0,      6,      11],\n",
        "    [72,    22,   27,      2,   19960]\n",
        "]\n",
        "\n",
        "f1_scores_nc = calcular_f1(conf_matrix_nc)\n",
        "\n",
        "for i in range(len(classes)):\n",
        "    print(f\"F1-score para classe {classes[i]}: {f1_scores_nc[i]}\\n\")"
      ]
    }
  ],
  "metadata": {
    "colab": {
      "provenance": []
    },
    "kernelspec": {
      "display_name": "base",
      "language": "python",
      "name": "python3"
    },
    "language_info": {
      "codemirror_mode": {
        "name": "ipython",
        "version": 3
      },
      "file_extension": ".py",
      "mimetype": "text/x-python",
      "name": "python",
      "nbconvert_exporter": "python",
      "pygments_lexer": "ipython3",
      "version": "3.12.7"
    }
  },
  "nbformat": 4,
  "nbformat_minor": 0
}